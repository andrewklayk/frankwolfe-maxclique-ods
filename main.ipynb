{
 "cells": [
  {
   "cell_type": "code",
   "execution_count": 38,
   "metadata": {},
   "outputs": [],
   "source": [
    "import numpy as np\n",
    "\n",
    "# maximal clique problem\n",
    "# target function is xT*A*x + some regularization term\n",
    "# with x being an n-dimensional simplex\n",
    "# (feasible set consists of probability simplexes)\n",
    "# and A - a {0,1} graph adjacency matrix\n",
    "\n",
    "def maxclique_grad(A: np.ndarray, x: np.ndarray, penalty: str = 'l2', p: int = None, alpha: float = None, beta: float = None, eps: float = None):\n",
    "    \"\"\"\n",
    "    Gradient calculation for the Maximal Clique.\n",
    "\n",
    "    A: a R^NxN adjacency matrix;\n",
    "    x: a R^N vector;\n",
    "    penalty: {'l2', 'f1', 'f2'} string specifying the type of penalty to use; defaults to l2;\n",
    "    p, alpha, beta, eps: penalty parameters.\n",
    "    \"\"\"\n",
    "    dp = 2*x\n",
    "    if str.lower(penalty) == 'f1':\n",
    "        raise NotImplementedError\n",
    "    if str.lower(penalty) == 'f2':\n",
    "        if beta <= 0 or alpha < 0 or alpha >= (2/beta**2):\n",
    "            raise ValueError\n",
    "        dp = alpha*np.sum(-beta*np.exp(-beta*x))\n",
    "\n",
    "    return np.dot((A + A.T), x) + dp\n",
    "\n",
    "def maxclique_lmo(grad):\n",
    "    \"\"\"\n",
    "    LMO for the maximal clique problem. \n",
    "    The feasible set is the unit simplex, so return a [0,...,1,...,0] vector with 1 in place of the lowest element of the gradient.\n",
    "    \"\"\"\n",
    "    e = np.zeros(shape=grad.shape[-1])\n",
    "    idxmin = np.argmin(grad)\n",
    "    e[idxmin] = 1\n",
    "    return e\n",
    "\n",
    "def frankwolfe(A: np.ndarray, grad: callable, lmo: callable, max_iter: int, x_0:float, stepsize: float = None):\n",
    "    '''\n",
    "    Basic Frank-Wolfe algorithm.\n",
    "\n",
    "    A: graph adjacency matrix;\n",
    "    g: gradient f-n;\n",
    "    stepsize: defaults to 2/(k+2), step defined as (1-stepsize)*x_k + stepsize*x_k_hat;\n",
    "    max_iter: max. nr of iterations,\n",
    "    x_0: starting point.\n",
    "    '''\n",
    "    x_hist = [x_0]\n",
    "    s_hist = []\n",
    "    for k in range(max_iter):\n",
    "        s = lmo(grad(A, x_hist[-1]))\n",
    "        gamma = 2/(k+2) if stepsize is None else stepsize\n",
    "        x_next = (1-gamma)*x_hist[-1] + gamma*s\n",
    "\n",
    "        x_hist.append(x_next)\n",
    "        s_hist.append(s)\n",
    "    return x_hist, s_hist\n"
   ]
  },
  {
   "cell_type": "code",
   "execution_count": 2,
   "metadata": {},
   "outputs": [],
   "source": [
    "from matplotlib import pyplot as plt"
   ]
  },
  {
   "cell_type": "code",
   "execution_count": 3,
   "metadata": {},
   "outputs": [],
   "source": [
    "def make_test_graph(n, p):\n",
    "    r = [0,1]\n",
    "    A = np.tril(np.random.default_rng().choice(a=r, size=(n,n),p=[1-p, p]), k=-1)\n",
    "    A = A + A.T\n",
    "    for i in range(n):\n",
    "        A[i,i] = 1\n",
    "    return A\n",
    "\n",
    "def draw_graph(A):\n",
    "    import networkx as nx\n",
    "    A_ = np.copy(A)\n",
    "    for i in range(A_.shape[0]):\n",
    "        A_[i,i] = 0\n",
    "    G = nx.Graph(A_)\n",
    "    nx.draw(G, labels={i:f'{i}' for i in range(A.shape[0])})"
   ]
  },
  {
   "cell_type": "code",
   "execution_count": 4,
   "metadata": {},
   "outputs": [],
   "source": [
    "A = np.array([\n",
    "    [1,1,1,1,0],\n",
    "    [1,1,0,0,1],\n",
    "    [1,0,1,1,1],\n",
    "    [1,0,1,1,1],\n",
    "    [0,1,1,1,1]\n",
    "])"
   ]
  },
  {
   "cell_type": "code",
   "execution_count": 39,
   "metadata": {},
   "outputs": [
    {
     "data": {
      "image/png": "[encoded data removed]",
      "text/plain": [
       "<Figure size 640x480 with 1 Axes>"
      ]
     },
     "metadata": {},
     "output_type": "display_data"
    }
   ],
   "source": [
    "A = make_test_graph(5, 0.6)\n",
    "draw_graph(A)"
   ]
  },
  {
   "cell_type": "code",
   "execution_count": 40,
   "metadata": {},
   "outputs": [],
   "source": [
    "x_0 = np.ones_like(A[0]) + 0.\n",
    "x_0 /= np.sum(x_0)\n",
    "x_hist, s_hist = frankwolfe(A=A, grad=maxclique_grad, lmo=maxclique_lmo, max_iter=100000, x_0=x_0)"
   ]
  },
  {
   "cell_type": "code",
   "execution_count": 41,
   "metadata": {},
   "outputs": [
    {
     "data": {
      "text/plain": [
       "4"
      ]
     },
     "execution_count": 41,
     "metadata": {},
     "output_type": "execute_result"
    }
   ],
   "source": [
    "np.sum(np.abs(x_hist[-1]) >= 1e-5) "
   ]
  },
  {
   "cell_type": "code",
   "execution_count": 333,
   "metadata": {},
   "outputs": [
    {
     "data": {
      "text/plain": [
       "array([0.2, 0.2, 0.2, 0.2, 0.2])"
      ]
     },
     "execution_count": 333,
     "metadata": {},
     "output_type": "execute_result"
    }
   ],
   "source": [
    "x_0"
   ]
  }
 ],
 "metadata": {
  "kernelspec": {
   "display_name": "env",
   "language": "python",
   "name": "python3"
  },
  "language_info": {
   "codemirror_mode": {
    "name": "ipython",
    "version": 3
   },
   "file_extension": ".py",
   "mimetype": "text/x-python",
   "name": "python",
   "nbconvert_exporter": "python",
   "pygments_lexer": "ipython3",
   "version": "3.9.15"
  },
  "orig_nbformat": 4,
  "vscode": {
   "interpreter": {
    "hash": "bd014cc4e5429353d7b878851ecdc46528d411a2d3ddf6baad2dcafbff2ad3e4"
   }
  }
 },
 "nbformat": 4,
 "nbformat_minor": 2
}
